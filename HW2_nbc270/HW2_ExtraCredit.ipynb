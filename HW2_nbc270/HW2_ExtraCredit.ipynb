{
 "cells": [
  {
   "cell_type": "markdown",
   "metadata": {},
   "source": [
    "Extra Credit: Downloading a JSON File\n",
    "Nathan Caplan"
   ]
  },
  {
   "cell_type": "code",
   "execution_count": 1,
   "metadata": {},
   "outputs": [],
   "source": [
    "#import libraries\n",
    "from __future__ import print_function\n",
    "import os \n",
    "import sys\n",
    "import pandas as pd\n",
    "import numpy as np\n",
    "import matplotlib.pyplot as plt\n",
    "import matplotlib\n",
    "%matplotlib inline"
   ]
  },
  {
   "cell_type": "code",
   "execution_count": 2,
   "metadata": {},
   "outputs": [
    {
     "name": "stdout",
     "output_type": "stream",
     "text": [
      "  % Total    % Received % Xferd  Average Speed   Time    Time     Time  Current\n",
      "                                 Dload  Upload   Total   Spent    Left  Speed\n",
      "100  463k    0  463k    0     0  1193k      0 --:--:-- --:--:-- --:--:-- 1193k\n",
      "curl: (3) <url> malformed\n"
     ]
    }
   ],
   "source": [
    "#Download Reservoir json file\n",
    "!curl https://data.cityofnewyork.us/resource/hrw9-hqf6.json ?accessType=DOWNLOAD > Current_Reservoir_Levels.json"
   ]
  },
  {
   "cell_type": "code",
   "execution_count": 3,
   "metadata": {},
   "outputs": [
    {
     "name": "stdout",
     "output_type": "stream",
     "text": [
      "PUIdata /Users/nathancaplan/Documents/NYU_CUSP/Fall_2018/PUI/PUIDATA\n"
     ]
    }
   ],
   "source": [
    "#Test environmental variable \n",
    "print(\"PUIdata\", os.getenv(\"PUIDATA\"))"
   ]
  },
  {
   "cell_type": "code",
   "execution_count": 12,
   "metadata": {},
   "outputs": [],
   "source": [
    "#Move file to proper directory\n",
    "!mv Current_Reservoir_Levels.JSON $PUIDATA"
   ]
  },
  {
   "cell_type": "code",
   "execution_count": 13,
   "metadata": {},
   "outputs": [
    {
     "name": "stdout",
     "output_type": "stream",
     "text": [
      "Current_Reservoir_Levels.JSON Current_Reservoir_Levels.csv\r\n"
     ]
    }
   ],
   "source": [
    "#Make sure it is there\n",
    "!ls $PUIDATA"
   ]
  },
  {
   "cell_type": "code",
   "execution_count": 14,
   "metadata": {},
   "outputs": [],
   "source": [
    "#Read the file\n",
    "CRL = pd.read_json(\"%s/Current_Reservoir_Levels.json\"%os.getenv(\"PUIDATA\"))"
   ]
  },
  {
   "cell_type": "code",
   "execution_count": 15,
   "metadata": {},
   "outputs": [
    {
     "data": {
      "text/html": [
       "<div>\n",
       "<style scoped>\n",
       "    .dataframe tbody tr th:only-of-type {\n",
       "        vertical-align: middle;\n",
       "    }\n",
       "\n",
       "    .dataframe tbody tr th {\n",
       "        vertical-align: top;\n",
       "    }\n",
       "\n",
       "    .dataframe thead th {\n",
       "        text-align: right;\n",
       "    }\n",
       "</style>\n",
       "<table border=\"1\" class=\"dataframe\">\n",
       "  <thead>\n",
       "    <tr style=\"text-align: right;\">\n",
       "      <th></th>\n",
       "      <th>ashokan_east_elevation</th>\n",
       "      <th>ashokan_east_storage</th>\n",
       "      <th>ashokan_west_elevation</th>\n",
       "      <th>ashokan_west_storage</th>\n",
       "      <th>cannonsville_elevation</th>\n",
       "      <th>cannonsville_storage</th>\n",
       "      <th>neversink_date</th>\n",
       "      <th>neversink_elevation</th>\n",
       "      <th>neversink_storage</th>\n",
       "      <th>pepacton_elevation</th>\n",
       "      <th>pepacton_storage</th>\n",
       "      <th>rondout_elevation</th>\n",
       "      <th>rondout_storage</th>\n",
       "      <th>schoharie_elevation</th>\n",
       "      <th>schoharie_storage</th>\n",
       "    </tr>\n",
       "  </thead>\n",
       "  <tbody>\n",
       "    <tr>\n",
       "      <th>0</th>\n",
       "      <td>573.43</td>\n",
       "      <td>59.02</td>\n",
       "      <td>581.71</td>\n",
       "      <td>39.30</td>\n",
       "      <td>1116.30</td>\n",
       "      <td>51.57</td>\n",
       "      <td>2017-11-13T03:00:00.000</td>\n",
       "      <td>1431.12</td>\n",
       "      <td>31.24</td>\n",
       "      <td>1264.10</td>\n",
       "      <td>116.02</td>\n",
       "      <td>835.48</td>\n",
       "      <td>47.01</td>\n",
       "      <td>1115.50</td>\n",
       "      <td>15.15</td>\n",
       "    </tr>\n",
       "    <tr>\n",
       "      <th>1</th>\n",
       "      <td>576.52</td>\n",
       "      <td>63.15</td>\n",
       "      <td>579.92</td>\n",
       "      <td>37.78</td>\n",
       "      <td>1114.36</td>\n",
       "      <td>49.35</td>\n",
       "      <td>2017-11-05T03:00:00.000</td>\n",
       "      <td>1430.47</td>\n",
       "      <td>30.94</td>\n",
       "      <td>1264.76</td>\n",
       "      <td>117.11</td>\n",
       "      <td>836.00</td>\n",
       "      <td>47.36</td>\n",
       "      <td>1113.39</td>\n",
       "      <td>13.98</td>\n",
       "    </tr>\n",
       "    <tr>\n",
       "      <th>2</th>\n",
       "      <td>577.58</td>\n",
       "      <td>64.95</td>\n",
       "      <td>578.59</td>\n",
       "      <td>36.82</td>\n",
       "      <td>1113.33</td>\n",
       "      <td>48.20</td>\n",
       "      <td>2017-11-02T04:00:00.000</td>\n",
       "      <td>1429.90</td>\n",
       "      <td>30.68</td>\n",
       "      <td>1264.61</td>\n",
       "      <td>116.87</td>\n",
       "      <td>835.94</td>\n",
       "      <td>47.32</td>\n",
       "      <td>1111.05</td>\n",
       "      <td>13.28</td>\n",
       "    </tr>\n",
       "    <tr>\n",
       "      <th>3</th>\n",
       "      <td>576.14</td>\n",
       "      <td>62.53</td>\n",
       "      <td>580.24</td>\n",
       "      <td>38.04</td>\n",
       "      <td>1114.72</td>\n",
       "      <td>49.75</td>\n",
       "      <td>2017-11-06T03:00:00.000</td>\n",
       "      <td>1430.75</td>\n",
       "      <td>31.07</td>\n",
       "      <td>1264.83</td>\n",
       "      <td>117.23</td>\n",
       "      <td>836.14</td>\n",
       "      <td>47.46</td>\n",
       "      <td>1114.04</td>\n",
       "      <td>14.19</td>\n",
       "    </tr>\n",
       "    <tr>\n",
       "      <th>4</th>\n",
       "      <td>571.67</td>\n",
       "      <td>56.08</td>\n",
       "      <td>583.64</td>\n",
       "      <td>41.23</td>\n",
       "      <td>1116.08</td>\n",
       "      <td>51.32</td>\n",
       "      <td>2017-11-20T03:00:00.000</td>\n",
       "      <td>1432.49</td>\n",
       "      <td>31.88</td>\n",
       "      <td>1263.84</td>\n",
       "      <td>115.60</td>\n",
       "      <td>835.45</td>\n",
       "      <td>46.99</td>\n",
       "      <td>1117.23</td>\n",
       "      <td>15.22</td>\n",
       "    </tr>\n",
       "    <tr>\n",
       "      <th>5</th>\n",
       "      <td>570.62</td>\n",
       "      <td>54.54</td>\n",
       "      <td>584.55</td>\n",
       "      <td>42.05</td>\n",
       "      <td>1116.04</td>\n",
       "      <td>51.27</td>\n",
       "      <td>2017-11-23T03:00:00.000</td>\n",
       "      <td>1432.75</td>\n",
       "      <td>32.00</td>\n",
       "      <td>1263.82</td>\n",
       "      <td>115.55</td>\n",
       "      <td>835.46</td>\n",
       "      <td>47.00</td>\n",
       "      <td>1117.41</td>\n",
       "      <td>15.25</td>\n",
       "    </tr>\n",
       "    <tr>\n",
       "      <th>6</th>\n",
       "      <td>574.96</td>\n",
       "      <td>60.76</td>\n",
       "      <td>581.00</td>\n",
       "      <td>38.71</td>\n",
       "      <td>1115.55</td>\n",
       "      <td>50.68</td>\n",
       "      <td>2017-11-09T03:00:00.000</td>\n",
       "      <td>1431.37</td>\n",
       "      <td>31.37</td>\n",
       "      <td>1264.56</td>\n",
       "      <td>116.78</td>\n",
       "      <td>836.15</td>\n",
       "      <td>47.46</td>\n",
       "      <td>1115.69</td>\n",
       "      <td>14.71</td>\n",
       "    </tr>\n",
       "  </tbody>\n",
       "</table>\n",
       "</div>"
      ],
      "text/plain": [
       "   ashokan_east_elevation  ashokan_east_storage  ashokan_west_elevation  \\\n",
       "0                  573.43                 59.02                  581.71   \n",
       "1                  576.52                 63.15                  579.92   \n",
       "2                  577.58                 64.95                  578.59   \n",
       "3                  576.14                 62.53                  580.24   \n",
       "4                  571.67                 56.08                  583.64   \n",
       "5                  570.62                 54.54                  584.55   \n",
       "6                  574.96                 60.76                  581.00   \n",
       "\n",
       "   ashokan_west_storage  cannonsville_elevation  cannonsville_storage  \\\n",
       "0                 39.30                 1116.30                 51.57   \n",
       "1                 37.78                 1114.36                 49.35   \n",
       "2                 36.82                 1113.33                 48.20   \n",
       "3                 38.04                 1114.72                 49.75   \n",
       "4                 41.23                 1116.08                 51.32   \n",
       "5                 42.05                 1116.04                 51.27   \n",
       "6                 38.71                 1115.55                 50.68   \n",
       "\n",
       "            neversink_date  neversink_elevation  neversink_storage  \\\n",
       "0  2017-11-13T03:00:00.000              1431.12              31.24   \n",
       "1  2017-11-05T03:00:00.000              1430.47              30.94   \n",
       "2  2017-11-02T04:00:00.000              1429.90              30.68   \n",
       "3  2017-11-06T03:00:00.000              1430.75              31.07   \n",
       "4  2017-11-20T03:00:00.000              1432.49              31.88   \n",
       "5  2017-11-23T03:00:00.000              1432.75              32.00   \n",
       "6  2017-11-09T03:00:00.000              1431.37              31.37   \n",
       "\n",
       "   pepacton_elevation  pepacton_storage  rondout_elevation  rondout_storage  \\\n",
       "0             1264.10            116.02             835.48            47.01   \n",
       "1             1264.76            117.11             836.00            47.36   \n",
       "2             1264.61            116.87             835.94            47.32   \n",
       "3             1264.83            117.23             836.14            47.46   \n",
       "4             1263.84            115.60             835.45            46.99   \n",
       "5             1263.82            115.55             835.46            47.00   \n",
       "6             1264.56            116.78             836.15            47.46   \n",
       "\n",
       "   schoharie_elevation  schoharie_storage  \n",
       "0              1115.50              15.15  \n",
       "1              1113.39              13.98  \n",
       "2              1111.05              13.28  \n",
       "3              1114.04              14.19  \n",
       "4              1117.23              15.22  \n",
       "5              1117.41              15.25  \n",
       "6              1115.69              14.71  "
      ]
     },
     "execution_count": 15,
     "metadata": {},
     "output_type": "execute_result"
    }
   ],
   "source": [
    "#See the top 7 rows\n",
    "CRL.head(7)"
   ]
  },
  {
   "cell_type": "code",
   "execution_count": 16,
   "metadata": {},
   "outputs": [
    {
     "data": {
      "text/html": [
       "<div>\n",
       "<style scoped>\n",
       "    .dataframe tbody tr th:only-of-type {\n",
       "        vertical-align: middle;\n",
       "    }\n",
       "\n",
       "    .dataframe tbody tr th {\n",
       "        vertical-align: top;\n",
       "    }\n",
       "\n",
       "    .dataframe thead th {\n",
       "        text-align: right;\n",
       "    }\n",
       "</style>\n",
       "<table border=\"1\" class=\"dataframe\">\n",
       "  <thead>\n",
       "    <tr style=\"text-align: right;\">\n",
       "      <th></th>\n",
       "      <th>ashokan_east_elevation</th>\n",
       "      <th>ashokan_east_storage</th>\n",
       "      <th>ashokan_west_elevation</th>\n",
       "      <th>ashokan_west_storage</th>\n",
       "      <th>cannonsville_elevation</th>\n",
       "      <th>cannonsville_storage</th>\n",
       "      <th>neversink_date</th>\n",
       "      <th>neversink_elevation</th>\n",
       "      <th>neversink_storage</th>\n",
       "      <th>pepacton_elevation</th>\n",
       "      <th>pepacton_storage</th>\n",
       "      <th>rondout_elevation</th>\n",
       "      <th>rondout_storage</th>\n",
       "      <th>schoharie_elevation</th>\n",
       "      <th>schoharie_storage</th>\n",
       "    </tr>\n",
       "  </thead>\n",
       "  <tbody>\n",
       "    <tr>\n",
       "      <th>997</th>\n",
       "      <td>578.16</td>\n",
       "      <td>66.25</td>\n",
       "      <td>579.06</td>\n",
       "      <td>36.74</td>\n",
       "      <td>1132.19</td>\n",
       "      <td>71.27</td>\n",
       "      <td>2013-12-17T19:00:00.000</td>\n",
       "      <td>1430.39</td>\n",
       "      <td>30.91</td>\n",
       "      <td>1259.64</td>\n",
       "      <td>108.82</td>\n",
       "      <td>836.13</td>\n",
       "      <td>47.43</td>\n",
       "      <td>1119.71</td>\n",
       "      <td>15.83</td>\n",
       "    </tr>\n",
       "    <tr>\n",
       "      <th>998</th>\n",
       "      <td>568.02</td>\n",
       "      <td>51.51</td>\n",
       "      <td>589.11</td>\n",
       "      <td>46.29</td>\n",
       "      <td>1127.50</td>\n",
       "      <td>65.68</td>\n",
       "      <td>2010-10-11T20:00:00.000</td>\n",
       "      <td>1428.38</td>\n",
       "      <td>29.99</td>\n",
       "      <td>1263.03</td>\n",
       "      <td>114.24</td>\n",
       "      <td>834.86</td>\n",
       "      <td>46.23</td>\n",
       "      <td>1125.82</td>\n",
       "      <td>18.04</td>\n",
       "    </tr>\n",
       "    <tr>\n",
       "      <th>999</th>\n",
       "      <td>587.07</td>\n",
       "      <td>80.62</td>\n",
       "      <td>590.12</td>\n",
       "      <td>47.31</td>\n",
       "      <td>1148.73</td>\n",
       "      <td>94.79</td>\n",
       "      <td>2008-05-06T20:00:00.000</td>\n",
       "      <td>1438.60</td>\n",
       "      <td>34.78</td>\n",
       "      <td>1278.06</td>\n",
       "      <td>140.16</td>\n",
       "      <td>839.22</td>\n",
       "      <td>49.52</td>\n",
       "      <td>1125.09</td>\n",
       "      <td>17.82</td>\n",
       "    </tr>\n",
       "  </tbody>\n",
       "</table>\n",
       "</div>"
      ],
      "text/plain": [
       "     ashokan_east_elevation  ashokan_east_storage  ashokan_west_elevation  \\\n",
       "997                  578.16                 66.25                  579.06   \n",
       "998                  568.02                 51.51                  589.11   \n",
       "999                  587.07                 80.62                  590.12   \n",
       "\n",
       "     ashokan_west_storage  cannonsville_elevation  cannonsville_storage  \\\n",
       "997                 36.74                 1132.19                 71.27   \n",
       "998                 46.29                 1127.50                 65.68   \n",
       "999                 47.31                 1148.73                 94.79   \n",
       "\n",
       "              neversink_date  neversink_elevation  neversink_storage  \\\n",
       "997  2013-12-17T19:00:00.000              1430.39              30.91   \n",
       "998  2010-10-11T20:00:00.000              1428.38              29.99   \n",
       "999  2008-05-06T20:00:00.000              1438.60              34.78   \n",
       "\n",
       "     pepacton_elevation  pepacton_storage  rondout_elevation  rondout_storage  \\\n",
       "997             1259.64            108.82             836.13            47.43   \n",
       "998             1263.03            114.24             834.86            46.23   \n",
       "999             1278.06            140.16             839.22            49.52   \n",
       "\n",
       "     schoharie_elevation  schoharie_storage  \n",
       "997              1119.71              15.83  \n",
       "998              1125.82              18.04  \n",
       "999              1125.09              17.82  "
      ]
     },
     "execution_count": 16,
     "metadata": {},
     "output_type": "execute_result"
    }
   ],
   "source": [
    "#See the bottom three rows\n",
    "CRL.tail(3)"
   ]
  },
  {
   "cell_type": "code",
   "execution_count": 17,
   "metadata": {},
   "outputs": [
    {
     "data": {
      "text/plain": [
       "Index([u'ashokan_east_elevation', u'ashokan_east_storage',\n",
       "       u'ashokan_west_elevation', u'ashokan_west_storage',\n",
       "       u'cannonsville_elevation', u'cannonsville_storage', u'neversink_date',\n",
       "       u'neversink_elevation', u'neversink_storage', u'pepacton_elevation',\n",
       "       u'pepacton_storage', u'rondout_elevation', u'rondout_storage',\n",
       "       u'schoharie_elevation', u'schoharie_storage'],\n",
       "      dtype='object')"
      ]
     },
     "execution_count": 17,
     "metadata": {},
     "output_type": "execute_result"
    }
   ],
   "source": [
    "#Show column titles\n",
    "CRL.columns"
   ]
  },
  {
   "cell_type": "code",
   "execution_count": 19,
   "metadata": {},
   "outputs": [
    {
     "data": {
      "text/html": [
       "<div>\n",
       "<style scoped>\n",
       "    .dataframe tbody tr th:only-of-type {\n",
       "        vertical-align: middle;\n",
       "    }\n",
       "\n",
       "    .dataframe tbody tr th {\n",
       "        vertical-align: top;\n",
       "    }\n",
       "\n",
       "    .dataframe thead th {\n",
       "        text-align: right;\n",
       "    }\n",
       "</style>\n",
       "<table border=\"1\" class=\"dataframe\">\n",
       "  <thead>\n",
       "    <tr style=\"text-align: right;\">\n",
       "      <th></th>\n",
       "      <th>ashokan_east_storage</th>\n",
       "      <th>neversink_date</th>\n",
       "    </tr>\n",
       "  </thead>\n",
       "  <tbody>\n",
       "    <tr>\n",
       "      <th>0</th>\n",
       "      <td>59.02</td>\n",
       "      <td>2017-11-13T03:00:00.000</td>\n",
       "    </tr>\n",
       "    <tr>\n",
       "      <th>1</th>\n",
       "      <td>63.15</td>\n",
       "      <td>2017-11-05T03:00:00.000</td>\n",
       "    </tr>\n",
       "    <tr>\n",
       "      <th>2</th>\n",
       "      <td>64.95</td>\n",
       "      <td>2017-11-02T04:00:00.000</td>\n",
       "    </tr>\n",
       "    <tr>\n",
       "      <th>3</th>\n",
       "      <td>62.53</td>\n",
       "      <td>2017-11-06T03:00:00.000</td>\n",
       "    </tr>\n",
       "    <tr>\n",
       "      <th>4</th>\n",
       "      <td>56.08</td>\n",
       "      <td>2017-11-20T03:00:00.000</td>\n",
       "    </tr>\n",
       "    <tr>\n",
       "      <th>5</th>\n",
       "      <td>54.54</td>\n",
       "      <td>2017-11-23T03:00:00.000</td>\n",
       "    </tr>\n",
       "    <tr>\n",
       "      <th>6</th>\n",
       "      <td>60.76</td>\n",
       "      <td>2017-11-09T03:00:00.000</td>\n",
       "    </tr>\n",
       "  </tbody>\n",
       "</table>\n",
       "</div>"
      ],
      "text/plain": [
       "   ashokan_east_storage           neversink_date\n",
       "0                 59.02  2017-11-13T03:00:00.000\n",
       "1                 63.15  2017-11-05T03:00:00.000\n",
       "2                 64.95  2017-11-02T04:00:00.000\n",
       "3                 62.53  2017-11-06T03:00:00.000\n",
       "4                 56.08  2017-11-20T03:00:00.000\n",
       "5                 54.54  2017-11-23T03:00:00.000\n",
       "6                 60.76  2017-11-09T03:00:00.000"
      ]
     },
     "execution_count": 19,
     "metadata": {},
     "output_type": "execute_result"
    }
   ],
   "source": [
    "#Remove columns of no interest\n",
    "New_CRL=CRL.drop(columns=[u'ashokan_east_elevation',\n",
    "       u'ashokan_west_elevation', u'ashokan_west_storage',\n",
    "       u'cannonsville_elevation', u'cannonsville_storage',\n",
    "       u'neversink_elevation', u'neversink_storage', u'pepacton_elevation',\n",
    "       u'pepacton_storage', u'rondout_elevation', u'rondout_storage',\n",
    "       u'schoharie_elevation', u'schoharie_storage'])\n",
    "New_CRL.head(7)"
   ]
  },
  {
   "cell_type": "code",
   "execution_count": 20,
   "metadata": {},
   "outputs": [
    {
     "data": {
      "text/plain": [
       "Index([u'ashokan_east_elevation',   u'Ashokan East Storage',\n",
       "       u'ashokan_west_elevation',   u'ashokan_west_storage',\n",
       "       u'cannonsville_elevation',   u'cannonsville_storage',\n",
       "                         u'Date',    u'neversink_elevation',\n",
       "            u'neversink_storage',     u'pepacton_elevation',\n",
       "             u'pepacton_storage',      u'rondout_elevation',\n",
       "              u'rondout_storage',    u'schoharie_elevation',\n",
       "            u'schoharie_storage'],\n",
       "      dtype='object')"
      ]
     },
     "execution_count": 20,
     "metadata": {},
     "output_type": "execute_result"
    }
   ],
   "source": [
    "#Rename columns\n",
    "CRL.rename(columns = {u'neversink_date':'Date', \n",
    "               u'ashokan_east_storage':'Ashokan East Storage', }, inplace=True)\n",
    "CRL.columns"
   ]
  },
  {
   "cell_type": "code",
   "execution_count": 21,
   "metadata": {},
   "outputs": [],
   "source": [
    "#Change the timestamp to year and month\n",
    "CRL[u\"Date\"] = CRL[u'Date'].apply(lambda x: pd.Timestamp(x))"
   ]
  },
  {
   "cell_type": "code",
   "execution_count": 22,
   "metadata": {},
   "outputs": [],
   "source": [
    "#Put the data into numpy arrays and reshape them to 2-Dimensional\n",
    "Date = CRL[u'Date']\n",
    "AES = CRL[u'Ashokan East Storage']\n",
    "Date_array = np.array(Date)\n",
    "AES_array = np.array(AES)\n",
    "new_Date = np.reshape(Date_array,[-1,1])\n",
    "new_AES = np.reshape(AES_array,[-1,1])"
   ]
  },
  {
   "cell_type": "code",
   "execution_count": 23,
   "metadata": {},
   "outputs": [
    {
     "data": {
      "text/plain": [
       "Text(0.5,1,'Figure 1: Ashokan West Reservoir Capacity vs. Time')"
      ]
     },
     "execution_count": 23,
     "metadata": {},
     "output_type": "execute_result"
    },
    {
     "data": {
      "image/png": "[encoded data removed]",
      "text/plain": [
       "<Figure size 432x288 with 1 Axes>"
      ]
     },
     "metadata": {},
     "output_type": "display_data"
    }
   ],
   "source": [
    "#Scatter Plot the data\n",
    "plt.scatter(new_Date,new_AES)\n",
    "plt.xlabel('Year', fontsize = 16)\n",
    "plt.ylabel('Ashokan West Capacity (%)', fontsize = 16)\n",
    "plt.title('Figure 1: Ashokan West Reservoir Capacity vs. Time', fontsize = 20)"
   ]
  },
  {
   "cell_type": "markdown",
   "metadata": {},
   "source": [
    "### Figure 1 shows the percent capaicty of the Ashokan West Reservoir from 2005 to present. The change in capacity ovee the years appears sinusoidal. Potnetial reasons for swings of low and high capacity could be drought or need to access this fresh water reserve if others were low. "
   ]
  },
  {
   "cell_type": "code",
   "execution_count": null,
   "metadata": {},
   "outputs": [],
   "source": []
  }
 ],
 "metadata": {
  "kernelspec": {
   "display_name": "Python 2",
   "language": "python",
   "name": "python2"
  },
  "language_info": {
   "codemirror_mode": {
    "name": "ipython",
    "version": 2
   },
   "file_extension": ".py",
   "mimetype": "text/x-python",
   "name": "python",
   "nbconvert_exporter": "python",
   "pygments_lexer": "ipython2",
   "version": "2.7.15"
  }
 },
 "nbformat": 4,
 "nbformat_minor": 2
}
