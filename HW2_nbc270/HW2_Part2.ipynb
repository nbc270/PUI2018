{
 "cells": [
  {
   "cell_type": "markdown",
   "metadata": {},
   "source": [
    "Assignment 2\n",
    "Nathan Caplan"
   ]
  },
  {
   "cell_type": "code",
   "execution_count": 2,
   "metadata": {},
   "outputs": [],
   "source": [
    "#import libraries\n",
    "from __future__ import print_function\n",
    "import os \n",
    "import sys\n",
    "import pandas as pd\n",
    "import numpy as np\n",
    "import matplotlib.pyplot as plt\n",
    "import matplotlib\n",
    "%matplotlib inline"
   ]
  },
  {
   "cell_type": "code",
   "execution_count": 3,
   "metadata": {},
   "outputs": [
    {
     "name": "stdout",
     "output_type": "stream",
     "text": [
      "  % Total    % Received % Xferd  Average Speed   Time    Time     Time  Current\n",
      "                                 Dload  Upload   Total   Spent    Left  Speed\n",
      "100  470k    0  470k    0     0   803k      0 --:--:-- --:--:-- --:--:--  802k\n"
     ]
    }
   ],
   "source": [
    "#Download Reservoir csv file\n",
    "!curl https://data.cityofnewyork.us/api/views/zkky-n5j3/rows.csv?accessType=DOWNLOAD > Current_Reservoir_Levels.csv"
   ]
  },
  {
   "cell_type": "code",
   "execution_count": 4,
   "metadata": {},
   "outputs": [
    {
     "name": "stdout",
     "output_type": "stream",
     "text": [
      "PUIdata /Users/nathancaplan/Documents/NYU_CUSP/Fall_2018/PUI/PUIDATA\n"
     ]
    }
   ],
   "source": [
    "#Test environmental variable \n",
    "print(\"PUIdata\", os.getenv(\"PUIDATA\"))"
   ]
  },
  {
   "cell_type": "code",
   "execution_count": 5,
   "metadata": {},
   "outputs": [],
   "source": [
    "#Move file to proper directory\n",
    "!mv Current_Reservoir_Levels.csv $PUIDATA"
   ]
  },
  {
   "cell_type": "code",
   "execution_count": 6,
   "metadata": {},
   "outputs": [
    {
     "name": "stdout",
     "output_type": "stream",
     "text": [
      "Current_Reservoir_Levels.JSON Current_Reservoir_Levels.csv\r\n"
     ]
    }
   ],
   "source": [
    "#Make sure it is there\n",
    "!ls $PUIDATA"
   ]
  },
  {
   "cell_type": "code",
   "execution_count": 7,
   "metadata": {},
   "outputs": [],
   "source": [
    "#Read the file\n",
    "CRL = pd.read_csv(\"%s/Current_Reservoir_Levels.csv\"%os.getenv(\"PUIDATA\"))"
   ]
  },
  {
   "cell_type": "code",
   "execution_count": 8,
   "metadata": {},
   "outputs": [
    {
     "data": {
      "text/html": [
       "<div>\n",
       "<style scoped>\n",
       "    .dataframe tbody tr th:only-of-type {\n",
       "        vertical-align: middle;\n",
       "    }\n",
       "\n",
       "    .dataframe tbody tr th {\n",
       "        vertical-align: top;\n",
       "    }\n",
       "\n",
       "    .dataframe thead th {\n",
       "        text-align: right;\n",
       "    }\n",
       "</style>\n",
       "<table border=\"1\" class=\"dataframe\">\n",
       "  <thead>\n",
       "    <tr style=\"text-align: right;\">\n",
       "      <th></th>\n",
       "      <th>Date</th>\n",
       "      <th>Ashokan East Storage</th>\n",
       "      <th>Ashokan East Elevation</th>\n",
       "      <th>Ashokan West Storage</th>\n",
       "      <th>Ashokan West Elevation</th>\n",
       "      <th>Schoharie Storage</th>\n",
       "      <th>Schoharie Elevation</th>\n",
       "      <th>Rondout Storage</th>\n",
       "      <th>Rondout Elevation</th>\n",
       "      <th>Neversink Storage</th>\n",
       "      <th>Neversink Elevation</th>\n",
       "      <th>Pepacton Storage</th>\n",
       "      <th>Pepacton Elevation</th>\n",
       "      <th>Cannonsville Storage</th>\n",
       "      <th>Cannonsville Elevation</th>\n",
       "    </tr>\n",
       "  </thead>\n",
       "  <tbody>\n",
       "    <tr>\n",
       "      <th>0</th>\n",
       "      <td>11/01/2017</td>\n",
       "      <td>65.36</td>\n",
       "      <td>577.86</td>\n",
       "      <td>36.34</td>\n",
       "      <td>577.89</td>\n",
       "      <td>12.92</td>\n",
       "      <td>1109.86</td>\n",
       "      <td>47.26</td>\n",
       "      <td>835.85</td>\n",
       "      <td>30.74</td>\n",
       "      <td>1430.03</td>\n",
       "      <td>116.60</td>\n",
       "      <td>1264.45</td>\n",
       "      <td>47.69</td>\n",
       "      <td>1112.87</td>\n",
       "    </tr>\n",
       "    <tr>\n",
       "      <th>1</th>\n",
       "      <td>11/02/2017</td>\n",
       "      <td>64.95</td>\n",
       "      <td>577.58</td>\n",
       "      <td>36.82</td>\n",
       "      <td>578.59</td>\n",
       "      <td>13.28</td>\n",
       "      <td>1111.05</td>\n",
       "      <td>47.32</td>\n",
       "      <td>835.94</td>\n",
       "      <td>30.68</td>\n",
       "      <td>1429.90</td>\n",
       "      <td>116.87</td>\n",
       "      <td>1264.61</td>\n",
       "      <td>48.20</td>\n",
       "      <td>1113.33</td>\n",
       "    </tr>\n",
       "    <tr>\n",
       "      <th>2</th>\n",
       "      <td>11/03/2017</td>\n",
       "      <td>64.36</td>\n",
       "      <td>577.31</td>\n",
       "      <td>37.18</td>\n",
       "      <td>579.14</td>\n",
       "      <td>13.56</td>\n",
       "      <td>1111.97</td>\n",
       "      <td>47.22</td>\n",
       "      <td>835.79</td>\n",
       "      <td>30.72</td>\n",
       "      <td>1429.99</td>\n",
       "      <td>117.08</td>\n",
       "      <td>1264.74</td>\n",
       "      <td>48.66</td>\n",
       "      <td>1113.74</td>\n",
       "    </tr>\n",
       "    <tr>\n",
       "      <th>3</th>\n",
       "      <td>11/04/2017</td>\n",
       "      <td>63.71</td>\n",
       "      <td>576.94</td>\n",
       "      <td>37.49</td>\n",
       "      <td>579.56</td>\n",
       "      <td>13.78</td>\n",
       "      <td>1112.73</td>\n",
       "      <td>47.28</td>\n",
       "      <td>835.88</td>\n",
       "      <td>30.83</td>\n",
       "      <td>1430.22</td>\n",
       "      <td>117.15</td>\n",
       "      <td>1264.78</td>\n",
       "      <td>49.05</td>\n",
       "      <td>1114.09</td>\n",
       "    </tr>\n",
       "    <tr>\n",
       "      <th>4</th>\n",
       "      <td>11/05/2017</td>\n",
       "      <td>63.15</td>\n",
       "      <td>576.52</td>\n",
       "      <td>37.78</td>\n",
       "      <td>579.92</td>\n",
       "      <td>13.98</td>\n",
       "      <td>1113.39</td>\n",
       "      <td>47.36</td>\n",
       "      <td>836.00</td>\n",
       "      <td>30.94</td>\n",
       "      <td>1430.47</td>\n",
       "      <td>117.11</td>\n",
       "      <td>1264.76</td>\n",
       "      <td>49.35</td>\n",
       "      <td>1114.36</td>\n",
       "    </tr>\n",
       "    <tr>\n",
       "      <th>5</th>\n",
       "      <td>11/06/2017</td>\n",
       "      <td>62.53</td>\n",
       "      <td>576.14</td>\n",
       "      <td>38.04</td>\n",
       "      <td>580.24</td>\n",
       "      <td>14.19</td>\n",
       "      <td>1114.04</td>\n",
       "      <td>47.46</td>\n",
       "      <td>836.14</td>\n",
       "      <td>31.07</td>\n",
       "      <td>1430.75</td>\n",
       "      <td>117.23</td>\n",
       "      <td>1264.83</td>\n",
       "      <td>49.75</td>\n",
       "      <td>1114.72</td>\n",
       "    </tr>\n",
       "    <tr>\n",
       "      <th>6</th>\n",
       "      <td>11/07/2017</td>\n",
       "      <td>61.92</td>\n",
       "      <td>575.75</td>\n",
       "      <td>38.28</td>\n",
       "      <td>580.52</td>\n",
       "      <td>14.38</td>\n",
       "      <td>1114.66</td>\n",
       "      <td>47.50</td>\n",
       "      <td>836.21</td>\n",
       "      <td>31.19</td>\n",
       "      <td>1431.01</td>\n",
       "      <td>117.20</td>\n",
       "      <td>1264.81</td>\n",
       "      <td>50.13</td>\n",
       "      <td>1115.06</td>\n",
       "    </tr>\n",
       "  </tbody>\n",
       "</table>\n",
       "</div>"
      ],
      "text/plain": [
       "  Date                Ashokan East Storage  Ashokan East Elevation  \\\n",
       "0         11/01/2017                 65.36                  577.86   \n",
       "1         11/02/2017                 64.95                  577.58   \n",
       "2         11/03/2017                 64.36                  577.31   \n",
       "3         11/04/2017                 63.71                  576.94   \n",
       "4         11/05/2017                 63.15                  576.52   \n",
       "5         11/06/2017                 62.53                  576.14   \n",
       "6         11/07/2017                 61.92                  575.75   \n",
       "\n",
       "   Ashokan West Storage  Ashokan West Elevation  Schoharie Storage  \\\n",
       "0                 36.34                  577.89              12.92   \n",
       "1                 36.82                  578.59              13.28   \n",
       "2                 37.18                  579.14              13.56   \n",
       "3                 37.49                  579.56              13.78   \n",
       "4                 37.78                  579.92              13.98   \n",
       "5                 38.04                  580.24              14.19   \n",
       "6                 38.28                  580.52              14.38   \n",
       "\n",
       "   Schoharie Elevation  Rondout Storage  Rondout Elevation  Neversink Storage  \\\n",
       "0              1109.86            47.26             835.85              30.74   \n",
       "1              1111.05            47.32             835.94              30.68   \n",
       "2              1111.97            47.22             835.79              30.72   \n",
       "3              1112.73            47.28             835.88              30.83   \n",
       "4              1113.39            47.36             836.00              30.94   \n",
       "5              1114.04            47.46             836.14              31.07   \n",
       "6              1114.66            47.50             836.21              31.19   \n",
       "\n",
       "   Neversink Elevation  Pepacton Storage  Pepacton Elevation  \\\n",
       "0              1430.03            116.60             1264.45   \n",
       "1              1429.90            116.87             1264.61   \n",
       "2              1429.99            117.08             1264.74   \n",
       "3              1430.22            117.15             1264.78   \n",
       "4              1430.47            117.11             1264.76   \n",
       "5              1430.75            117.23             1264.83   \n",
       "6              1431.01            117.20             1264.81   \n",
       "\n",
       "   Cannonsville Storage  Cannonsville Elevation  \n",
       "0                 47.69                 1112.87  \n",
       "1                 48.20                 1113.33  \n",
       "2                 48.66                 1113.74  \n",
       "3                 49.05                 1114.09  \n",
       "4                 49.35                 1114.36  \n",
       "5                 49.75                 1114.72  \n",
       "6                 50.13                 1115.06  "
      ]
     },
     "execution_count": 8,
     "metadata": {},
     "output_type": "execute_result"
    }
   ],
   "source": [
    "#See the top 7 rows\n",
    "CRL.head(7)"
   ]
  },
  {
   "cell_type": "code",
   "execution_count": 9,
   "metadata": {},
   "outputs": [
    {
     "data": {
      "text/html": [
       "<div>\n",
       "<style scoped>\n",
       "    .dataframe tbody tr th:only-of-type {\n",
       "        vertical-align: middle;\n",
       "    }\n",
       "\n",
       "    .dataframe tbody tr th {\n",
       "        vertical-align: top;\n",
       "    }\n",
       "\n",
       "    .dataframe thead th {\n",
       "        text-align: right;\n",
       "    }\n",
       "</style>\n",
       "<table border=\"1\" class=\"dataframe\">\n",
       "  <thead>\n",
       "    <tr style=\"text-align: right;\">\n",
       "      <th></th>\n",
       "      <th>Date</th>\n",
       "      <th>Ashokan East Storage</th>\n",
       "      <th>Ashokan East Elevation</th>\n",
       "      <th>Ashokan West Storage</th>\n",
       "      <th>Ashokan West Elevation</th>\n",
       "      <th>Schoharie Storage</th>\n",
       "      <th>Schoharie Elevation</th>\n",
       "      <th>Rondout Storage</th>\n",
       "      <th>Rondout Elevation</th>\n",
       "      <th>Neversink Storage</th>\n",
       "      <th>Neversink Elevation</th>\n",
       "      <th>Pepacton Storage</th>\n",
       "      <th>Pepacton Elevation</th>\n",
       "      <th>Cannonsville Storage</th>\n",
       "      <th>Cannonsville Elevation</th>\n",
       "    </tr>\n",
       "  </thead>\n",
       "  <tbody>\n",
       "    <tr>\n",
       "      <th>4579</th>\n",
       "      <td>08/29/2018</td>\n",
       "      <td>75.79</td>\n",
       "      <td>585.80</td>\n",
       "      <td>42.92</td>\n",
       "      <td>588.14</td>\n",
       "      <td>18.39</td>\n",
       "      <td>1130.12</td>\n",
       "      <td>48.03</td>\n",
       "      <td>837.81</td>\n",
       "      <td>35.16</td>\n",
       "      <td>1439.99</td>\n",
       "      <td>140.09</td>\n",
       "      <td>1278.52</td>\n",
       "      <td>91.78</td>\n",
       "      <td>1148.26</td>\n",
       "    </tr>\n",
       "    <tr>\n",
       "      <th>4580</th>\n",
       "      <td>08/30/2018</td>\n",
       "      <td>75.17</td>\n",
       "      <td>585.43</td>\n",
       "      <td>42.48</td>\n",
       "      <td>587.76</td>\n",
       "      <td>18.37</td>\n",
       "      <td>1130.13</td>\n",
       "      <td>47.93</td>\n",
       "      <td>837.67</td>\n",
       "      <td>35.13</td>\n",
       "      <td>1439.92</td>\n",
       "      <td>139.42</td>\n",
       "      <td>1278.16</td>\n",
       "      <td>91.19</td>\n",
       "      <td>1147.86</td>\n",
       "    </tr>\n",
       "    <tr>\n",
       "      <th>4581</th>\n",
       "      <td>08/31/2018</td>\n",
       "      <td>74.57</td>\n",
       "      <td>585.05</td>\n",
       "      <td>42.18</td>\n",
       "      <td>587.31</td>\n",
       "      <td>18.17</td>\n",
       "      <td>1129.93</td>\n",
       "      <td>47.77</td>\n",
       "      <td>837.43</td>\n",
       "      <td>35.11</td>\n",
       "      <td>1439.89</td>\n",
       "      <td>138.75</td>\n",
       "      <td>1277.79</td>\n",
       "      <td>90.55</td>\n",
       "      <td>1147.43</td>\n",
       "    </tr>\n",
       "  </tbody>\n",
       "</table>\n",
       "</div>"
      ],
      "text/plain": [
       "     Date                Ashokan East Storage  Ashokan East Elevation  \\\n",
       "4579         08/29/2018                 75.79                  585.80   \n",
       "4580         08/30/2018                 75.17                  585.43   \n",
       "4581         08/31/2018                 74.57                  585.05   \n",
       "\n",
       "      Ashokan West Storage  Ashokan West Elevation  Schoharie Storage  \\\n",
       "4579                 42.92                  588.14              18.39   \n",
       "4580                 42.48                  587.76              18.37   \n",
       "4581                 42.18                  587.31              18.17   \n",
       "\n",
       "      Schoharie Elevation  Rondout Storage  Rondout Elevation  \\\n",
       "4579              1130.12            48.03             837.81   \n",
       "4580              1130.13            47.93             837.67   \n",
       "4581              1129.93            47.77             837.43   \n",
       "\n",
       "      Neversink Storage  Neversink Elevation  Pepacton Storage  \\\n",
       "4579              35.16              1439.99            140.09   \n",
       "4580              35.13              1439.92            139.42   \n",
       "4581              35.11              1439.89            138.75   \n",
       "\n",
       "      Pepacton Elevation  Cannonsville Storage  Cannonsville Elevation  \n",
       "4579             1278.52                 91.78                 1148.26  \n",
       "4580             1278.16                 91.19                 1147.86  \n",
       "4581             1277.79                 90.55                 1147.43  "
      ]
     },
     "execution_count": 9,
     "metadata": {},
     "output_type": "execute_result"
    }
   ],
   "source": [
    "#See the bottom three rows\n",
    "CRL.tail(3)"
   ]
  },
  {
   "cell_type": "code",
   "execution_count": 10,
   "metadata": {},
   "outputs": [
    {
     "data": {
      "text/plain": [
       "Index([u'Date              ', u'Ashokan East Storage',\n",
       "       u'Ashokan East Elevation', u'Ashokan West Storage',\n",
       "       u'Ashokan West Elevation', u'Schoharie Storage', u'Schoharie Elevation',\n",
       "       u'Rondout Storage', u'Rondout Elevation', u'Neversink Storage',\n",
       "       u'Neversink Elevation', u'Pepacton Storage', u'Pepacton Elevation',\n",
       "       u'Cannonsville Storage', u'Cannonsville Elevation'],\n",
       "      dtype='object')"
      ]
     },
     "execution_count": 10,
     "metadata": {},
     "output_type": "execute_result"
    }
   ],
   "source": [
    "#Show column titles\n",
    "CRL.columns"
   ]
  },
  {
   "cell_type": "code",
   "execution_count": 23,
   "metadata": {},
   "outputs": [
    {
     "data": {
      "text/html": [
       "<div>\n",
       "<style scoped>\n",
       "    .dataframe tbody tr th:only-of-type {\n",
       "        vertical-align: middle;\n",
       "    }\n",
       "\n",
       "    .dataframe tbody tr th {\n",
       "        vertical-align: top;\n",
       "    }\n",
       "\n",
       "    .dataframe thead th {\n",
       "        text-align: right;\n",
       "    }\n",
       "</style>\n",
       "<table border=\"1\" class=\"dataframe\">\n",
       "  <thead>\n",
       "    <tr style=\"text-align: right;\">\n",
       "      <th></th>\n",
       "      <th>Ashokan East Storage</th>\n",
       "      <th>Ashokan East Elevation</th>\n",
       "    </tr>\n",
       "  </thead>\n",
       "  <tbody>\n",
       "    <tr>\n",
       "      <th>0</th>\n",
       "      <td>65.36</td>\n",
       "      <td>577.86</td>\n",
       "    </tr>\n",
       "    <tr>\n",
       "      <th>1</th>\n",
       "      <td>64.95</td>\n",
       "      <td>577.58</td>\n",
       "    </tr>\n",
       "    <tr>\n",
       "      <th>2</th>\n",
       "      <td>64.36</td>\n",
       "      <td>577.31</td>\n",
       "    </tr>\n",
       "    <tr>\n",
       "      <th>3</th>\n",
       "      <td>63.71</td>\n",
       "      <td>576.94</td>\n",
       "    </tr>\n",
       "    <tr>\n",
       "      <th>4</th>\n",
       "      <td>63.15</td>\n",
       "      <td>576.52</td>\n",
       "    </tr>\n",
       "    <tr>\n",
       "      <th>5</th>\n",
       "      <td>62.53</td>\n",
       "      <td>576.14</td>\n",
       "    </tr>\n",
       "    <tr>\n",
       "      <th>6</th>\n",
       "      <td>61.92</td>\n",
       "      <td>575.75</td>\n",
       "    </tr>\n",
       "  </tbody>\n",
       "</table>\n",
       "</div>"
      ],
      "text/plain": [
       "   Ashokan East Storage  Ashokan East Elevation\n",
       "0                 65.36                  577.86\n",
       "1                 64.95                  577.58\n",
       "2                 64.36                  577.31\n",
       "3                 63.71                  576.94\n",
       "4                 63.15                  576.52\n",
       "5                 62.53                  576.14\n",
       "6                 61.92                  575.75"
      ]
     },
     "execution_count": 23,
     "metadata": {},
     "output_type": "execute_result"
    }
   ],
   "source": [
    "#Remove columns of no interest\n",
    "New_CRL = CRL.drop(columns=[u'Date              ',u'Ashokan West Storage',\n",
    "       u'Ashokan West Elevation', u'Schoharie Storage', u'Schoharie Elevation',\n",
    "       u'Rondout Storage', u'Rondout Elevation', u'Neversink Storage',\n",
    "       u'Neversink Elevation', u'Pepacton Storage', u'Pepacton Elevation',\n",
    "       u'Cannonsville Storage', u'Cannonsville Elevation'])\n",
    "New_CRL.head(7)"
   ]
  },
  {
   "cell_type": "code",
   "execution_count": 21,
   "metadata": {},
   "outputs": [],
   "source": [
    "#Put the data into numpy arrays and reshape them to 2-Dimensional\n",
    "AWS = CRL[u'Ashokan East Storage']\n",
    "AWE = CRL[u'Ashokan East Elevation']\n",
    "AWS_array = np.array(AWS)\n",
    "AWE_array = np.array(AWE)\n",
    "new_AWS = np.reshape(AWS_array,[-1,1])\n",
    "new_AWE = np.reshape(AWE_array,[-1,1])"
   ]
  },
  {
   "cell_type": "code",
   "execution_count": 22,
   "metadata": {
    "scrolled": true
   },
   "outputs": [
    {
     "data": {
      "text/plain": [
       "Text(0.5,1,'Ashokan West Reservoir Capacity vs. Time')"
      ]
     },
     "execution_count": 22,
     "metadata": {},
     "output_type": "execute_result"
    },
    {
     "data": {
      "image/png": "[encoded data removed]",
      "text/plain": [
       "<Figure size 864x720 with 1 Axes>"
      ]
     },
     "metadata": {},
     "output_type": "display_data"
    }
   ],
   "source": [
    "#Scatter Plot the data\n",
    "figure, ax = plt.subplots(figsize=(12, 10))\n",
    "plt.xlabel('Ashokan West Daily Capacity (Unknown Volume Unit)', fontsize = 16)\n",
    "plt.ylabel('Ashokan West Percent Capacity', fontsize = 16)\n",
    "plt.scatter(new_AWE,new_AWS)\n",
    "plt.title('Ashokan West Reservoir Capacity vs. Time', fontsize = 20)"
   ]
  },
  {
   "cell_type": "markdown",
   "metadata": {},
   "source": [
    "### Figure 1 shows the percentage Ashokan West Capacity over the Ashokan West Daily Capaicty. There appears to be a strong linear relation between the two. One thing to note is that the capacity volume units are unavailable and are not provided by NYC open data. "
   ]
  },
  {
   "cell_type": "code",
   "execution_count": null,
   "metadata": {},
   "outputs": [],
   "source": []
  }
 ],
 "metadata": {
  "kernelspec": {
   "display_name": "Python 2",
   "language": "python",
   "name": "python2"
  },
  "language_info": {
   "codemirror_mode": {
    "name": "ipython",
    "version": 2
   },
   "file_extension": ".py",
   "mimetype": "text/x-python",
   "name": "python",
   "nbconvert_exporter": "python",
   "pygments_lexer": "ipython2",
   "version": "2.7.15"
  }
 },
 "nbformat": 4,
 "nbformat_minor": 2
}
